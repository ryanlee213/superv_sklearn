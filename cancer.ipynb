{
 "cells": [
  {
   "cell_type": "code",
   "execution_count": 3,
   "metadata": {},
   "outputs": [],
   "source": [
    "import pandas as pd\n",
    "import numpy as np\n",
    "import matplotlib.pyplot as plt\n",
    "%matplotlib inline\n",
    "import seaborn as sns"
   ]
  },
  {
   "cell_type": "code",
   "execution_count": 4,
   "metadata": {},
   "outputs": [],
   "source": [
    "sns.set(style='ticks', context='paper')"
   ]
  },
  {
   "cell_type": "code",
   "execution_count": 5,
   "metadata": {},
   "outputs": [],
   "source": [
    "url = 'http://archive.ics.uci.edu/ml/machine-learning-databases/breast-cancer-wisconsin/breast-cancer-wisconsin.data'"
   ]
  },
  {
   "cell_type": "code",
   "execution_count": 6,
   "metadata": {},
   "outputs": [],
   "source": [
    "cancer = pd.read_csv(url, header=None)\n",
    "cancer.rename(columns={0:'id', 10:'class'}, inplace=True)"
   ]
  },
  {
   "cell_type": "code",
   "execution_count": 7,
   "metadata": {},
   "outputs": [],
   "source": [
    "attributes = {1:'clump_thickness', 2:'cellsize_uniformity', 3:'cellshape_uniformity'\n",
    "             , 4:'marginal_adhesion', 5:'single_epithelial_cellsize', 6:'bare_nuclei'\n",
    "             , 7:'bland_chromatin', 8:'normal_nucleoli', 9:'mitoses'}"
   ]
  },
  {
   "cell_type": "code",
   "execution_count": 8,
   "metadata": {
    "scrolled": true
   },
   "outputs": [
    {
     "data": {
      "text/html": [
       "<div>\n",
       "<style scoped>\n",
       "    .dataframe tbody tr th:only-of-type {\n",
       "        vertical-align: middle;\n",
       "    }\n",
       "\n",
       "    .dataframe tbody tr th {\n",
       "        vertical-align: top;\n",
       "    }\n",
       "\n",
       "    .dataframe thead th {\n",
       "        text-align: right;\n",
       "    }\n",
       "</style>\n",
       "<table border=\"1\" class=\"dataframe\">\n",
       "  <thead>\n",
       "    <tr style=\"text-align: right;\">\n",
       "      <th></th>\n",
       "      <th>id</th>\n",
       "      <th>1</th>\n",
       "      <th>2</th>\n",
       "      <th>3</th>\n",
       "      <th>4</th>\n",
       "      <th>5</th>\n",
       "      <th>6</th>\n",
       "      <th>7</th>\n",
       "      <th>8</th>\n",
       "      <th>9</th>\n",
       "      <th>class</th>\n",
       "    </tr>\n",
       "  </thead>\n",
       "  <tbody>\n",
       "    <tr>\n",
       "      <th>0</th>\n",
       "      <td>1000025</td>\n",
       "      <td>5</td>\n",
       "      <td>1</td>\n",
       "      <td>1</td>\n",
       "      <td>1</td>\n",
       "      <td>2</td>\n",
       "      <td>1</td>\n",
       "      <td>3</td>\n",
       "      <td>1</td>\n",
       "      <td>1</td>\n",
       "      <td>2</td>\n",
       "    </tr>\n",
       "    <tr>\n",
       "      <th>1</th>\n",
       "      <td>1002945</td>\n",
       "      <td>5</td>\n",
       "      <td>4</td>\n",
       "      <td>4</td>\n",
       "      <td>5</td>\n",
       "      <td>7</td>\n",
       "      <td>10</td>\n",
       "      <td>3</td>\n",
       "      <td>2</td>\n",
       "      <td>1</td>\n",
       "      <td>2</td>\n",
       "    </tr>\n",
       "    <tr>\n",
       "      <th>2</th>\n",
       "      <td>1015425</td>\n",
       "      <td>3</td>\n",
       "      <td>1</td>\n",
       "      <td>1</td>\n",
       "      <td>1</td>\n",
       "      <td>2</td>\n",
       "      <td>2</td>\n",
       "      <td>3</td>\n",
       "      <td>1</td>\n",
       "      <td>1</td>\n",
       "      <td>2</td>\n",
       "    </tr>\n",
       "    <tr>\n",
       "      <th>3</th>\n",
       "      <td>1016277</td>\n",
       "      <td>6</td>\n",
       "      <td>8</td>\n",
       "      <td>8</td>\n",
       "      <td>1</td>\n",
       "      <td>3</td>\n",
       "      <td>4</td>\n",
       "      <td>3</td>\n",
       "      <td>7</td>\n",
       "      <td>1</td>\n",
       "      <td>2</td>\n",
       "    </tr>\n",
       "    <tr>\n",
       "      <th>4</th>\n",
       "      <td>1017023</td>\n",
       "      <td>4</td>\n",
       "      <td>1</td>\n",
       "      <td>1</td>\n",
       "      <td>3</td>\n",
       "      <td>2</td>\n",
       "      <td>1</td>\n",
       "      <td>3</td>\n",
       "      <td>1</td>\n",
       "      <td>1</td>\n",
       "      <td>2</td>\n",
       "    </tr>\n",
       "  </tbody>\n",
       "</table>\n",
       "</div>"
      ],
      "text/plain": [
       "        id  1  2  3  4  5   6  7  8  9  class\n",
       "0  1000025  5  1  1  1  2   1  3  1  1      2\n",
       "1  1002945  5  4  4  5  7  10  3  2  1      2\n",
       "2  1015425  3  1  1  1  2   2  3  1  1      2\n",
       "3  1016277  6  8  8  1  3   4  3  7  1      2\n",
       "4  1017023  4  1  1  3  2   1  3  1  1      2"
      ]
     },
     "execution_count": 8,
     "metadata": {},
     "output_type": "execute_result"
    }
   ],
   "source": [
    "cancer.head()"
   ]
  },
  {
   "cell_type": "code",
   "execution_count": null,
   "metadata": {},
   "outputs": [],
   "source": [
    "cancer[]"
   ]
  },
  {
   "cell_type": "code",
   "execution_count": 9,
   "metadata": {
    "scrolled": true
   },
   "outputs": [],
   "source": [
    "# converting 'class' label from (2,4) to (0,1)\n",
    "cancer['class'] = cancer['class'].apply(lambda x: 0 if x==2 else 1)"
   ]
  },
  {
   "cell_type": "code",
   "execution_count": 10,
   "metadata": {
    "scrolled": true
   },
   "outputs": [
    {
     "name": "stdout",
     "output_type": "stream",
     "text": [
      "<class 'pandas.core.frame.DataFrame'>\n",
      "RangeIndex: 699 entries, 0 to 698\n",
      "Data columns (total 11 columns):\n",
      "id       699 non-null int64\n",
      "1        699 non-null int64\n",
      "2        699 non-null int64\n",
      "3        699 non-null int64\n",
      "4        699 non-null int64\n",
      "5        699 non-null int64\n",
      "6        699 non-null object\n",
      "7        699 non-null int64\n",
      "8        699 non-null int64\n",
      "9        699 non-null int64\n",
      "class    699 non-null int64\n",
      "dtypes: int64(10), object(1)\n",
      "memory usage: 60.1+ KB\n"
     ]
    }
   ],
   "source": [
    "cancer.info()"
   ]
  },
  {
   "cell_type": "code",
   "execution_count": 11,
   "metadata": {},
   "outputs": [
    {
     "data": {
      "text/plain": [
       "array(['1', '10', '2', '3', '4', '5', '6', '7', '8', '9', '?'],\n",
       "      dtype=object)"
      ]
     },
     "execution_count": 11,
     "metadata": {},
     "output_type": "execute_result"
    }
   ],
   "source": [
    "np.unique(cancer[6])"
   ]
  },
  {
   "cell_type": "markdown",
   "metadata": {},
   "source": [
    "***\n",
    "Column 6 contains value '?' in several columns.\n",
    "- convert to 0 for EDA\n",
    "- impute for model\n",
    "    - check decisiontree.feature\\_importances_ if column can be ignored"
   ]
  },
  {
   "cell_type": "code",
   "execution_count": 12,
   "metadata": {
    "scrolled": true
   },
   "outputs": [],
   "source": [
    "cancer[6] = cancer[6].apply(lambda x: 0 if x=='?' else x)\n",
    "cancer[6] = cancer[6].astype('int64')"
   ]
  },
  {
   "cell_type": "code",
   "execution_count": 13,
   "metadata": {},
   "outputs": [],
   "source": [
    "# create feature/target set before EDA\n",
    "X0 = cancer.iloc[:, :-1]\n",
    "y0 = cancer.iloc[:, -1:]"
   ]
  },
  {
   "cell_type": "code",
   "execution_count": 14,
   "metadata": {},
   "outputs": [],
   "source": [
    "# converting df to sns-friendly format\n",
    "cancer_sns = cancer.iloc[:, 1:].unstack().reset_index()\n",
    "cancer_sns.columns = ['att', 'inst', 'val']\n",
    "\n",
    "cancer_feat = cancer_sns.iloc[:6291] # the attributes\n",
    "\n",
    "# the target; stack to itself 9 times (9 features) and attach to cancer_feat\n",
    "cancer_targ = cancer_sns.iloc[6291:].rename(columns={'val':'class'}) \n",
    "cancer_targ.drop('att', 1, inplace=True)\n",
    "\n",
    "cancer_class = cancer_feat.merge(cancer_targ, how='left', left_on='inst', right_on='inst')"
   ]
  },
  {
   "cell_type": "code",
   "execution_count": 15,
   "metadata": {
    "scrolled": true
   },
   "outputs": [],
   "source": [
    "# g = sns.FacetGrid(cancer_class, col=\"att\", sharey=False, sharex=False, col_wrap=3)\n",
    "# g.map(sns.distplot, 'val')\n",
    "# plt.show()"
   ]
  },
  {
   "cell_type": "code",
   "execution_count": 16,
   "metadata": {},
   "outputs": [
    {
     "data": {
      "image/png": "[encoded data removed]",
      "text/plain": [
       "<matplotlib.figure.Figure at 0x1c01cea1438>"
      ]
     },
     "metadata": {},
     "output_type": "display_data"
    }
   ],
   "source": [
    "g = sns.FacetGrid(cancer_class, col=\"att\", hue='class', sharey=False, sharex=True, col_wrap=3)\n",
    "g.map(sns.distplot, 'val', kde=False).add_legend()\n",
    "plt.show()"
   ]
  },
  {
   "cell_type": "markdown",
   "metadata": {},
   "source": [
    "- Attributes 1 and 7 have more diverse ranges for benign instances than the other attributes. \n",
    "- Malignant instances tend to have either a uniform or a negatively-skewed distribution of scores\n",
    "***"
   ]
  },
  {
   "cell_type": "code",
   "execution_count": 17,
   "metadata": {
    "scrolled": true
   },
   "outputs": [
    {
     "data": {
      "text/plain": [
       "<matplotlib.axes._subplots.AxesSubplot at 0x1c01d91f978>"
      ]
     },
     "execution_count": 17,
     "metadata": {},
     "output_type": "execute_result"
    },
    {
     "data": {
      "image/png": "[encoded data removed]",
      "text/plain": [
       "<matplotlib.figure.Figure at 0x1c01ce537f0>"
      ]
     },
     "metadata": {},
     "output_type": "display_data"
    }
   ],
   "source": [
    "sns.heatmap(cancer.iloc[:, 1:].corr())"
   ]
  },
  {
   "cell_type": "markdown",
   "metadata": {},
   "source": [
    "- all features have at least some correlation with the target class\n",
    "- a lot of correlation among features; pca"
   ]
  },
  {
   "cell_type": "code",
   "execution_count": 18,
   "metadata": {},
   "outputs": [
    {
     "name": "stderr",
     "output_type": "stream",
     "text": [
      "C:\\Users\\Ryan\\Anaconda3\\lib\\site-packages\\seaborn\\axisgrid.py:703: UserWarning: Using the violinplot function without specifying `order` is likely to produce an incorrect plot.\n",
      "  warnings.warn(warning)\n"
     ]
    },
    {
     "data": {
      "image/png": "[encoded data removed]",
      "text/plain": [
       "<matplotlib.figure.Figure at 0x1c01d8ada90>"
      ]
     },
     "metadata": {},
     "output_type": "display_data"
    }
   ],
   "source": [
    "g = sns.FacetGrid(cancer_class, col=\"att\", sharey=False, sharex=True, col_wrap=3)\n",
    "g.map(sns.violinplot, 'att', 'val', 'class', hue_order=[0,1], \n",
    "          linewidth=1, size=10, palette='Set2', alpha=0.2).add_legend()\n",
    "plt.show()"
   ]
  },
  {
   "cell_type": "markdown",
   "metadata": {},
   "source": [
    "***\n",
    "- train/test without missing values first, then impute \n",
    "- use gridsearch with a few models\n",
    "    - will not be doing logistic for time being, and svc will be further down"
   ]
  },
  {
   "cell_type": "code",
   "execution_count": 19,
   "metadata": {
    "scrolled": true
   },
   "outputs": [],
   "source": [
    "X_1 = X0[X0[6]!=0] # instances with NO missing values\n",
    "X_missing = X0[X0[6]==0] # instances with missing values\n",
    "\n",
    "y_1 = y0.iloc[X_1.index]\n",
    "y_missing = y0.iloc[X_missing.index]"
   ]
  },
  {
   "cell_type": "markdown",
   "metadata": {},
   "source": [
    "- DecisionTree / RandomForest \\.feature_importances_\n",
    "- MultinomialNB \\.coef_ \n",
    "    - and maybe feature_log_prob_, and class_log_prior_ with intercept_\n",
    "- KNN\n",
    "    - look into ball tree, kdtree;\n"
   ]
  },
  {
   "cell_type": "code",
   "execution_count": 20,
   "metadata": {},
   "outputs": [],
   "source": [
    "from sklearn.model_selection import train_test_split, GridSearchCV, RandomizedSearchCV, cross_validate\n",
    "from sklearn.preprocessing import Imputer\n",
    "from sklearn.decomposition import PCA"
   ]
  },
  {
   "cell_type": "code",
   "execution_count": 21,
   "metadata": {},
   "outputs": [],
   "source": [
    "X1_train, X1_val, y1_train, y1_val = train_test_split(X_1, y_1, random_state=42, test_size=0.2)"
   ]
  },
  {
   "cell_type": "code",
   "execution_count": 22,
   "metadata": {},
   "outputs": [],
   "source": [
    "from sklearn.metrics import confusion_matrix, f1_score, precision_score, recall_score"
   ]
  },
  {
   "cell_type": "code",
   "execution_count": 23,
   "metadata": {},
   "outputs": [],
   "source": [
    "from sklearn.neighbors import KNeighborsClassifier\n",
    "from sklearn.tree import DecisionTreeClassifier\n",
    "from sklearn.ensemble import RandomForestClassifier, ExtraTreesClassifier\n",
    "from sklearn.naive_bayes import MultinomialNB\n",
    "from sklearn.linear_model import LogisticRegressionCV\n",
    "from sklearn.svm import SVC"
   ]
  },
  {
   "cell_type": "code",
   "execution_count": 24,
   "metadata": {},
   "outputs": [],
   "source": [
    "mnb = MultinomialNB() # use for nlp\n",
    "\n",
    "knn = KNeighborsClassifier(algorithm='kd_tree') # kd_tree\n",
    "dt = DecisionTreeClassifier(random_state=42) \n",
    "et = ExtraTreesClassifier(random_state=42)\n",
    "rf = RandomForestClassifier(random_state=42)\n",
    "\n",
    "lr = LogisticRegressionCV(random_state=42) # built in grid-search method\n",
    "\n",
    "svc = SVC()"
   ]
  },
  {
   "cell_type": "code",
   "execution_count": 25,
   "metadata": {},
   "outputs": [],
   "source": [
    "param_mnb = {'alpha': [i/10 for i in range(1, 11)]}\n",
    "param_knn = {'n_neighbors': [i for i in range(1, 16)]}\n",
    "\n",
    "param_dt = {'max_depth': [i+1 for i in range(10)]}\n",
    "param_rf = {'max_depth': [i+1 for i in range(10)], 'n_estimators': [5,10,15,20,25,30]}\n",
    "param_et = {'max_depth': [i+1 for i in range(10)], 'n_estimators': [5,10,15,20,25,30]}\n",
    "\n",
    "Cs_log = [10**i for i in range(-4,4)]"
   ]
  },
  {
   "cell_type": "code",
   "execution_count": 26,
   "metadata": {},
   "outputs": [],
   "source": [
    "scoring_metric = ['accuracy', 'recall', 'f1']"
   ]
  },
  {
   "cell_type": "code",
   "execution_count": 27,
   "metadata": {},
   "outputs": [],
   "source": [
    "meancv_metric = ['mean_test_accuracy', 'std_test_accuracy',\n",
    "                 'mean_test_recall', 'std_test_recall',\n",
    "                 'mean_test_f1', 'std_test_f1']"
   ]
  },
  {
   "cell_type": "code",
   "execution_count": 28,
   "metadata": {},
   "outputs": [],
   "source": [
    "def grid_search_cv(estimator=None, param_grid=None, scoring=scoring_metric,\n",
    "                   cv=3, refit='recall', return_train_score=False, show_cv=False,\n",
    "                   X1_train=X1_train, X1_val=X1_val, \n",
    "                   y1_train=y1_train, y1_val=y1_val):\n",
    "    \n",
    "    gs = GridSearchCV(estimator=estimator,\n",
    "                     param_grid=param_grid,\n",
    "                     scoring=scoring,\n",
    "                     cv=cv,\n",
    "                     refit=refit,\n",
    "                     return_train_score=return_train_score)\n",
    "    \n",
    "    # best_params_ with resulting metric used for refit \n",
    "    gs = gs.fit(X1_train.iloc[:, 1:], y1_train['class'].ravel())\n",
    "    print('The optimal paramters are ', gs.best_params_, \n",
    "           '\\n with a training %s of %0.4f'% (refit, gs.best_score_))\n",
    "\n",
    "    # cv mean and std\n",
    "    cv_results = [gs.cv_results_[metric] for metric in meancv_metric]\n",
    "    cv_mean_std = dict(zip(meancv_metric, cv_results));\n",
    "    if show_cv == True:\n",
    "        for k,v in cv_mean_std.items():\n",
    "            print(k, '\\n', v, '\\n')\n",
    "    \n",
    "    clf = gs.best_estimator_\n",
    "    clf.fit(X1_train.iloc[:, 1:], y1_train['class'].ravel())\n",
    "    y1_ = clf.predict(X1_val.iloc[:, 1:])\n",
    "    print('\\nTest results')\n",
    "    print (confusion_matrix(y1_val['class'].ravel(), y1_), \n",
    "           '\\nAccuracy: %0.4f' % clf.score(X1_val.iloc[:, 1:], y1_val['class'].ravel()))\n",
    "    return clf"
   ]
  },
  {
   "cell_type": "code",
   "execution_count": 29,
   "metadata": {},
   "outputs": [
    {
     "name": "stdout",
     "output_type": "stream",
     "text": [
      "The optimal paramters are  {'max_depth': 2} \n",
      " with a training recall of 0.9447\n",
      "\n",
      "Test results\n",
      "[[76  3]\n",
      " [ 7 51]] \n",
      "Accuracy: 0.9270\n"
     ]
    }
   ],
   "source": [
    "clf_dt = grid_search_cv(dt, param_dt)"
   ]
  },
  {
   "cell_type": "code",
   "execution_count": 30,
   "metadata": {},
   "outputs": [
    {
     "name": "stdout",
     "output_type": "stream",
     "text": [
      "The optimal paramters are  {'max_depth': 2, 'n_estimators': 5} \n",
      " with a training recall of 0.9668\n",
      "\n",
      "Test results\n",
      "[[77  2]\n",
      " [ 4 54]] \n",
      "Accuracy: 0.9562\n"
     ]
    }
   ],
   "source": [
    "clf_rf = grid_search_cv(rf, param_rf)"
   ]
  },
  {
   "cell_type": "code",
   "execution_count": 31,
   "metadata": {},
   "outputs": [
    {
     "name": "stdout",
     "output_type": "stream",
     "text": [
      "The optimal paramters are  {'max_depth': 4, 'n_estimators': 5} \n",
      " with a training recall of 0.9614\n",
      "\n",
      "Test results\n",
      "[[77  2]\n",
      " [ 7 51]] \n",
      "Accuracy: 0.9343\n"
     ]
    }
   ],
   "source": [
    "clf_et = grid_search_cv(et, param_et)"
   ]
  },
  {
   "cell_type": "code",
   "execution_count": 32,
   "metadata": {},
   "outputs": [
    {
     "name": "stdout",
     "output_type": "stream",
     "text": [
      "The optimal paramters are  {'n_neighbors': 3} \n",
      " with a training recall of 0.9559\n",
      "\n",
      "Test results\n",
      "[[78  1]\n",
      " [ 6 52]] \n",
      "Accuracy: 0.9489\n"
     ]
    }
   ],
   "source": [
    "clf_knn = grid_search_cv(knn, param_knn)"
   ]
  },
  {
   "cell_type": "code",
   "execution_count": 33,
   "metadata": {},
   "outputs": [
    {
     "name": "stdout",
     "output_type": "stream",
     "text": [
      "The optimal paramters are  {'alpha': 0.1} \n",
      " with a training recall of 0.7956\n",
      "\n",
      "Test results\n",
      "[[77  2]\n",
      " [14 44]] \n",
      "Accuracy: 0.8832\n"
     ]
    }
   ],
   "source": [
    "# disregard, problem child\n",
    "clf_mnb = grid_search_cv(mnb, param_mnb)"
   ]
  },
  {
   "cell_type": "code",
   "execution_count": null,
   "metadata": {},
   "outputs": [],
   "source": []
  },
  {
   "cell_type": "code",
   "execution_count": 34,
   "metadata": {},
   "outputs": [],
   "source": [
    "# feature_importances for dt and rf"
   ]
  },
  {
   "cell_type": "code",
   "execution_count": 35,
   "metadata": {},
   "outputs": [
    {
     "data": {
      "text/plain": [
       "array([0.        , 0.8932024 , 0.00877125, 0.        , 0.        ,\n",
       "       0.09802635, 0.        , 0.        , 0.        ])"
      ]
     },
     "execution_count": 35,
     "metadata": {},
     "output_type": "execute_result"
    }
   ],
   "source": [
    "clf_dt.feature_importances_"
   ]
  },
  {
   "cell_type": "code",
   "execution_count": 36,
   "metadata": {},
   "outputs": [
    {
     "data": {
      "text/plain": [
       "array([1.88504433e-02, 3.79157518e-01, 2.65768363e-01, 2.31688545e-04,\n",
       "       0.00000000e+00, 1.68584548e-02, 3.19133533e-01, 0.00000000e+00,\n",
       "       0.00000000e+00])"
      ]
     },
     "execution_count": 36,
     "metadata": {},
     "output_type": "execute_result"
    }
   ],
   "source": [
    "clf_rf.feature_importances_"
   ]
  },
  {
   "cell_type": "code",
   "execution_count": null,
   "metadata": {},
   "outputs": [],
   "source": []
  },
  {
   "cell_type": "code",
   "execution_count": 37,
   "metadata": {},
   "outputs": [],
   "source": [
    "from sklearn.decomposition import PCA\n",
    "from sklearn.pipeline import Pipeline\n",
    "from sklearn.preprocessing import MinMaxScaler"
   ]
  },
  {
   "cell_type": "code",
   "execution_count": 38,
   "metadata": {},
   "outputs": [
    {
     "data": {
      "text/plain": [
       "Text(0,0.5,'explained_variance_')"
      ]
     },
     "execution_count": 38,
     "metadata": {},
     "output_type": "execute_result"
    },
    {
     "data": {
      "image/png": "[encoded data removed]",
      "text/plain": [
       "<matplotlib.figure.Figure at 0x1c01e906b70>"
      ]
     },
     "metadata": {},
     "output_type": "display_data"
    }
   ],
   "source": [
    "pca = PCA()\n",
    "min_max = MinMaxScaler()\n",
    "pipe_mnb = Pipeline([('pca', pca),\n",
    "                     ('scale', min_max),\n",
    "                ('mnb', mnb)])\n",
    "\n",
    "pca.fit(X1_train)\n",
    "\n",
    "plt.figure(1, figsize=(4, 3))\n",
    "plt.clf()\n",
    "plt.axes([.2, .2, .7, .7])\n",
    "plt.plot(pca.explained_variance_, linewidth=2)\n",
    "plt.axis('tight')\n",
    "plt.xlabel('n_components')\n",
    "plt.ylabel('explained_variance_')"
   ]
  },
  {
   "cell_type": "code",
   "execution_count": 39,
   "metadata": {},
   "outputs": [],
   "source": [
    "pca_components = [1,2,3,4,5]"
   ]
  },
  {
   "cell_type": "code",
   "execution_count": 40,
   "metadata": {},
   "outputs": [],
   "source": [
    "estimator = GridSearchCV(estimator=pipe_mnb,\n",
    "                        param_grid=dict(pca__n_components=pca_components,\n",
    "                                        mnb__alpha=[i/10 for i in range(1, 11)]),\n",
    "                        scoring='recall',\n",
    "                        cv=3,\n",
    "                        refit='recall',\n",
    "                        return_train_score=False)"
   ]
  },
  {
   "cell_type": "code",
   "execution_count": 41,
   "metadata": {},
   "outputs": [
    {
     "data": {
      "text/plain": [
       "GridSearchCV(cv=3, error_score='raise',\n",
       "       estimator=Pipeline(memory=None,\n",
       "     steps=[('pca', PCA(copy=True, iterated_power='auto', n_components=None, random_state=None,\n",
       "  svd_solver='auto', tol=0.0, whiten=False)), ('scale', MinMaxScaler(copy=True, feature_range=(0, 1))), ('mnb', MultinomialNB(alpha=1.0, class_prior=None, fit_prior=True))]),\n",
       "       fit_params=None, iid=True, n_jobs=1,\n",
       "       param_grid={'pca__n_components': [1, 2, 3, 4, 5], 'mnb__alpha': [0.1, 0.2, 0.3, 0.4, 0.5, 0.6, 0.7, 0.8, 0.9, 1.0]},\n",
       "       pre_dispatch='2*n_jobs', refit='recall', return_train_score=False,\n",
       "       scoring='recall', verbose=0)"
      ]
     },
     "execution_count": 41,
     "metadata": {},
     "output_type": "execute_result"
    }
   ],
   "source": [
    "estimator.fit(X1_train, y1_train['class'].ravel())"
   ]
  },
  {
   "cell_type": "code",
   "execution_count": 42,
   "metadata": {},
   "outputs": [
    {
     "data": {
      "text/plain": [
       "4"
      ]
     },
     "execution_count": 42,
     "metadata": {},
     "output_type": "execute_result"
    }
   ],
   "source": [
    "# clearly pca.n_components will be the biggest number\n",
    "estimator.best_estimator_.named_steps['pca'].n_components"
   ]
  },
  {
   "cell_type": "code",
   "execution_count": 43,
   "metadata": {},
   "outputs": [
    {
     "data": {
      "text/plain": [
       "0.1"
      ]
     },
     "execution_count": 43,
     "metadata": {},
     "output_type": "execute_result"
    }
   ],
   "source": [
    "estimator.best_estimator_.named_steps['mnb'].alpha"
   ]
  },
  {
   "cell_type": "code",
   "execution_count": 44,
   "metadata": {
    "scrolled": true
   },
   "outputs": [
    {
     "data": {
      "text/plain": [
       "array([[79,  0],\n",
       "       [40, 18]], dtype=int64)"
      ]
     },
     "execution_count": 44,
     "metadata": {},
     "output_type": "execute_result"
    }
   ],
   "source": [
    "best_est = estimator.best_estimator_\n",
    "\n",
    "best_est.fit(X1_train,y1_train['class'].ravel())\n",
    "ypca_ = best_est.predict(X1_val)\n",
    "confusion_matrix(y1_val['class'].ravel(), ypca_)\n",
    "\n",
    "# evidently, mnb not great for this case (mnb on original featureset not great)\n",
    "## and apparently, neither with pca"
   ]
  },
  {
   "cell_type": "code",
   "execution_count": null,
   "metadata": {},
   "outputs": [],
   "source": []
  },
  {
   "cell_type": "code",
   "execution_count": null,
   "metadata": {},
   "outputs": [],
   "source": []
  },
  {
   "cell_type": "code",
   "execution_count": null,
   "metadata": {},
   "outputs": [],
   "source": []
  },
  {
   "cell_type": "code",
   "execution_count": null,
   "metadata": {},
   "outputs": [],
   "source": []
  },
  {
   "cell_type": "code",
   "execution_count": 45,
   "metadata": {},
   "outputs": [],
   "source": [
    "# imputing"
   ]
  },
  {
   "cell_type": "code",
   "execution_count": 46,
   "metadata": {},
   "outputs": [],
   "source": [
    "imputer = Imputer(missing_values=0, strategy='median', axis=1)"
   ]
  },
  {
   "cell_type": "code",
   "execution_count": 47,
   "metadata": {},
   "outputs": [],
   "source": [
    "X_impute_median = pd.DataFrame(imputer.fit_transform(X0))\n",
    "X_impute_median[0] = X_impute_median[0].astype(int)\n",
    "X_impute_median = X_impute_median.rename(columns={0:'id'})"
   ]
  },
  {
   "cell_type": "code",
   "execution_count": 48,
   "metadata": {
    "scrolled": true
   },
   "outputs": [],
   "source": [
    "X_nan_impute = X_impute_median.iloc[X_missing.index, :]\n",
    "\n",
    "y_nan_impute = y_missing.copy()"
   ]
  },
  {
   "cell_type": "markdown",
   "metadata": {},
   "source": [
    "- Even though the imputed sample is small, \n",
    "    - test on imputed sample, \n",
    "    - imputed sample as part of test/val, \n",
    "    - and imputed sample as part of the bigger train"
   ]
  },
  {
   "cell_type": "code",
   "execution_count": 49,
   "metadata": {},
   "outputs": [
    {
     "name": "stdout",
     "output_type": "stream",
     "text": [
      "The optimal paramters are  {'max_depth': 2, 'n_estimators': 5} \n",
      " with a training recall of 0.9668\n",
      "\n",
      "Test results\n",
      "[[12  2]\n",
      " [ 0  2]] \n",
      "Accuracy: 0.8750\n"
     ]
    }
   ],
   "source": [
    "# best accuracy and recall was rf\n",
    "clf_rf_imp = grid_search_cv(estimator=rf, param_grid=param_rf, X1_val=X_nan_impute,\n",
    "                       y1_val=y_nan_impute)"
   ]
  },
  {
   "cell_type": "markdown",
   "metadata": {},
   "source": [
    "- of course, the test sample size is not ideal, but the model still correctly identified the positive labels\n",
    "- attach imputed samples to test/val set, then training set"
   ]
  },
  {
   "cell_type": "code",
   "execution_count": 50,
   "metadata": {},
   "outputs": [],
   "source": [
    "X2_val = pd.concat([X1_val, X_nan_impute])\n",
    "y2_val = pd.concat([y1_val, y_nan_impute])"
   ]
  },
  {
   "cell_type": "code",
   "execution_count": 51,
   "metadata": {},
   "outputs": [
    {
     "name": "stdout",
     "output_type": "stream",
     "text": [
      "The optimal paramters are  {'max_depth': 2, 'n_estimators': 5} \n",
      " with a training recall of 0.9668\n",
      "\n",
      "Test results\n",
      "[[89  4]\n",
      " [ 4 56]] \n",
      "Accuracy: 0.9477\n"
     ]
    }
   ],
   "source": [
    "clf_rf_imp_val = grid_search_cv(estimator=rf, param_grid=param_rf, X1_val=X2_val,\n",
    "                       y1_val=y2_val)"
   ]
  },
  {
   "cell_type": "markdown",
   "metadata": {},
   "source": [
    "    - learned something today....."
   ]
  },
  {
   "cell_type": "code",
   "execution_count": 52,
   "metadata": {},
   "outputs": [],
   "source": [
    "X2_train = pd.concat([X1_train, X_nan_impute])\n",
    "y2_train = pd.concat([y1_train, y_nan_impute])"
   ]
  },
  {
   "cell_type": "code",
   "execution_count": 53,
   "metadata": {},
   "outputs": [
    {
     "name": "stdout",
     "output_type": "stream",
     "text": [
      "The optimal paramters are  {'max_depth': 2, 'n_estimators': 5} \n",
      " with a training recall of 0.9727\n",
      "\n",
      "Test results\n",
      "[[77  2]\n",
      " [ 4 54]] \n",
      "Accuracy: 0.9562\n"
     ]
    }
   ],
   "source": [
    "clf_rf_imp_train = grid_search_cv(estimator=rf, param_grid=param_rf, X1_train=X2_train,\n",
    "                       y1_train=y2_train)"
   ]
  },
  {
   "cell_type": "markdown",
   "metadata": {},
   "source": [
    "-resample with imputed sample"
   ]
  },
  {
   "cell_type": "code",
   "execution_count": 61,
   "metadata": {},
   "outputs": [],
   "source": [
    "X_train, X_test, y_train, y_test = train_test_split(X_impute_median, y0, test_size=.2)"
   ]
  },
  {
   "cell_type": "code",
   "execution_count": 62,
   "metadata": {},
   "outputs": [
    {
     "name": "stdout",
     "output_type": "stream",
     "text": [
      "The optimal paramters are  {'max_depth': 2, 'n_estimators': 10} \n",
      " with a training recall of 0.9706\n",
      "\n",
      "Test results\n",
      "[[98  5]\n",
      " [ 0 37]] \n",
      "Accuracy: 0.9643\n"
     ]
    }
   ],
   "source": [
    "clf_rf_imp = grid_search_cv(estimator=rf, param_grid=param_rf, X1_train=X_train,\n",
    "                                 X1_val=X_test, y1_train=y_train, y1_val=y_test)"
   ]
  },
  {
   "cell_type": "code",
   "execution_count": 63,
   "metadata": {},
   "outputs": [
    {
     "name": "stdout",
     "output_type": "stream",
     "text": [
      "The optimal paramters are  {'max_depth': 7} \n",
      " with a training recall of 0.9216\n",
      "\n",
      "Test results\n",
      "[[99  4]\n",
      " [ 4 33]] \n",
      "Accuracy: 0.9429\n"
     ]
    }
   ],
   "source": [
    "clf_dt = grid_search_cv(dt, param_dt, X1_train=X_train,\n",
    "                                 X1_val=X_test, y1_train=y_train, y1_val=y_test)"
   ]
  },
  {
   "cell_type": "code",
   "execution_count": 64,
   "metadata": {},
   "outputs": [
    {
     "name": "stdout",
     "output_type": "stream",
     "text": [
      "The optimal paramters are  {'n_neighbors': 3} \n",
      " with a training recall of 0.9608\n",
      "\n",
      "Test results\n",
      "[[101   2]\n",
      " [  2  35]] \n",
      "Accuracy: 0.9714\n"
     ]
    }
   ],
   "source": [
    "clf_knn = grid_search_cv(knn, param_knn, X1_train=X_train,\n",
    "                                 X1_val=X_test, y1_train=y_train, y1_val=y_test)"
   ]
  },
  {
   "cell_type": "code",
   "execution_count": 65,
   "metadata": {},
   "outputs": [
    {
     "name": "stdout",
     "output_type": "stream",
     "text": [
      "The optimal paramters are  {'max_depth': 8, 'n_estimators': 30} \n",
      " with a training recall of 0.9804\n",
      "\n",
      "Test results\n",
      "[[101   2]\n",
      " [  2  35]] \n",
      "Accuracy: 0.9714\n"
     ]
    }
   ],
   "source": [
    "clf_et = grid_search_cv(et, param_et, X1_train=X_train,\n",
    "                                 X1_val=X_test, y1_train=y_train, y1_val=y_test)"
   ]
  },
  {
   "cell_type": "code",
   "execution_count": null,
   "metadata": {},
   "outputs": [],
   "source": []
  },
  {
   "cell_type": "code",
   "execution_count": null,
   "metadata": {},
   "outputs": [],
   "source": []
  },
  {
   "cell_type": "code",
   "execution_count": null,
   "metadata": {},
   "outputs": [],
   "source": []
  },
  {
   "cell_type": "code",
   "execution_count": null,
   "metadata": {},
   "outputs": [],
   "source": []
  },
  {
   "cell_type": "code",
   "execution_count": null,
   "metadata": {},
   "outputs": [],
   "source": []
  },
  {
   "cell_type": "code",
   "execution_count": null,
   "metadata": {},
   "outputs": [],
   "source": []
  },
  {
   "cell_type": "code",
   "execution_count": null,
   "metadata": {},
   "outputs": [],
   "source": []
  },
  {
   "cell_type": "markdown",
   "metadata": {},
   "source": [
    "Citation Request:\n",
    "   This breast cancer databases was obtained from the University of Wisconsin\n",
    "   Hospitals, Madison from Dr. William H. Wolberg.  If you publish results\n",
    "   when using this database, then please include this information in your\n",
    "   acknowledgements.  Also, please cite one or more of:\n",
    "\n",
    "   1. O. L. Mangasarian and W. H. Wolberg: \"Cancer diagnosis via linear \n",
    "      programming\", SIAM News, Volume 23, Number 5, September 1990, pp 1 & 18.\n",
    "\n",
    "   2. William H. Wolberg and O.L. Mangasarian: \"Multisurface method of \n",
    "      pattern separation for medical diagnosis applied to breast cytology\", \n",
    "      Proceedings of the National Academy of Sciences, U.S.A., Volume 87, \n",
    "      December 1990, pp 9193-9196.\n",
    "\n",
    "   3. O. L. Mangasarian, R. Setiono, and W.H. Wolberg: \"Pattern recognition \n",
    "      via linear programming: Theory and application to medical diagnosis\", \n",
    "      in: \"Large-scale numerical optimization\", Thomas F. Coleman and Yuying\n",
    "      Li, editors, SIAM Publications, Philadelphia 1990, pp 22-30.\n",
    "\n",
    "   4. K. P. Bennett & O. L. Mangasarian: \"Robust linear programming \n",
    "      discrimination of two linearly inseparable sets\", Optimization Methods\n",
    "      and Software 1, 1992, 23-34 (Gordon & Breach Science Publishers).\n",
    "\n",
    "1. Title: Wisconsin Breast Cancer Database (January 8, 1991)\n",
    "\n",
    "2. Sources:\n",
    "   -- Dr. WIlliam H. Wolberg (physician)\n",
    "      University of Wisconsin Hospitals\n",
    "      Madison, Wisconsin\n",
    "      USA\n",
    "   -- Donor: Olvi Mangasarian (mangasarian@cs.wisc.edu)\n",
    "      Received by David W. Aha (aha@cs.jhu.edu)\n",
    "   -- Date: 15 July 1992\n",
    "\n",
    "3. Past Usage:\n",
    "\n",
    "   Attributes 2 through 10 have been used to represent instances.\n",
    "   Each instance has one of 2 possible classes: benign or malignant.\n",
    "\n",
    "   1. Wolberg,~W.~H., \\& Mangasarian,~O.~L. (1990). Multisurface method of \n",
    "      pattern separation for medical diagnosis applied to breast cytology. In\n",
    "      {\\it Proceedings of the National Academy of Sciences}, {\\it 87},\n",
    "      9193--9196.\n",
    "      -- Size of data set: only 369 instances (at that point in time)\n",
    "      -- Collected classification results: 1 trial only\n",
    "      -- Two pairs of parallel hyperplanes were found to be consistent with\n",
    "         50% of the data\n",
    "         -- Accuracy on remaining 50% of dataset: 93.5%\n",
    "      -- Three pairs of parallel hyperplanes were found to be consistent with\n",
    "         67% of data\n",
    "         -- Accuracy on remaining 33% of dataset: 95.9%\n",
    "\n",
    "   2. Zhang,~J. (1992). Selecting typical instances in instance-based\n",
    "      learning.  In {\\it Proceedings of the Ninth International Machine\n",
    "      Learning Conference} (pp. 470--479).  Aberdeen, Scotland: Morgan\n",
    "      Kaufmann.\n",
    "      -- Size of data set: only 369 instances (at that point in time)\n",
    "      -- Applied 4 instance-based learning algorithms \n",
    "      -- Collected classification results averaged over 10 trials\n",
    "      -- Best accuracy result: \n",
    "         -- 1-nearest neighbor: 93.7%\n",
    "         -- trained on 200 instances, tested on the other 169\n",
    "      -- Also of interest:\n",
    "         -- Using only typical instances: 92.2% (storing only 23.1 instances)\n",
    "         -- trained on 200 instances, tested on the other 169\n",
    "\n",
    "4. Relevant Information:\n",
    "\n",
    "   Samples arrive periodically as Dr. Wolberg reports his clinical cases.\n",
    "   The database therefore reflects this chronological grouping of the data.\n",
    "   This grouping information appears immediately below, having been removed\n",
    "   from the data itself:\n",
    "\n",
    "     Group 1: 367 instances (January 1989)\n",
    "     Group 2:  70 instances (October 1989)\n",
    "     Group 3:  31 instances (February 1990)\n",
    "     Group 4:  17 instances (April 1990)\n",
    "     Group 5:  48 instances (August 1990)\n",
    "     Group 6:  49 instances (Updated January 1991)\n",
    "     Group 7:  31 instances (June 1991)\n",
    "     Group 8:  86 instances (November 1991)\n",
    "     -----------------------------------------\n",
    "     Total:   699 points (as of the donated datbase on 15 July 1992)\n",
    "\n",
    "   Note that the results summarized above in Past Usage refer to a dataset\n",
    "   of size 369, while Group 1 has only 367 instances.  This is because it\n",
    "   originally contained 369 instances; 2 were removed.  The following\n",
    "   statements summarizes changes to the original Group 1's set of data:\n",
    "\n",
    "   #####  Group 1 : 367 points: 200B 167M (January 1989)\n",
    "   #####  Revised Jan 10, 1991: Replaced zero bare nuclei in 1080185 & 1187805\n",
    "   #####  Revised Nov 22,1991: Removed 765878,4,5,9,7,10,10,10,3,8,1 no record\n",
    "   #####                  : Removed 484201,2,7,8,8,4,3,10,3,4,1 zero epithelial\n",
    "   #####                  : Changed 0 to 1 in field 6 of sample 1219406\n",
    "   #####                  : Changed 0 to 1 in field 8 of following sample:\n",
    "   #####                  : 1182404,2,3,1,1,1,2,0,1,1,1\n",
    "\n",
    "5. Number of Instances: 699 (as of 15 July 1992)\n",
    "\n",
    "6. Number of Attributes: 10 plus the class attribute\n",
    "\n",
    "7. Attribute Information: (class attribute has been moved to last column)\n",
    "\n",
    "   #  Attribute                     Domain\n",
    "   -- -----------------------------------------\n",
    "   1. Sample code number            id number\n",
    "   2. Clump Thickness               1 - 10\n",
    "   3. Uniformity of Cell Size       1 - 10\n",
    "   4. Uniformity of Cell Shape      1 - 10\n",
    "   5. Marginal Adhesion             1 - 10\n",
    "   6. Single Epithelial Cell Size   1 - 10\n",
    "   7. Bare Nuclei                   1 - 10\n",
    "   8. Bland Chromatin               1 - 10\n",
    "   9. Normal Nucleoli               1 - 10\n",
    "  10. Mitoses                       1 - 10\n",
    "  11. Class:                        (2 for benign, 4 for malignant)\n",
    "\n",
    "8. Missing attribute values: 16\n",
    "\n",
    "   There are 16 instances in Groups 1 to 6 that contain a single missing \n",
    "   (i.e., unavailable) attribute value, now denoted by \"?\".  \n",
    "\n",
    "9. Class distribution:\n",
    " \n",
    "   Benign: 458 (65.5%)\n",
    "   Malignant: 241 (34.5%)"
   ]
  },
  {
   "cell_type": "code",
   "execution_count": null,
   "metadata": {},
   "outputs": [],
   "source": []
  },
  {
   "cell_type": "code",
   "execution_count": 55,
   "metadata": {},
   "outputs": [],
   "source": [
    "# sp_expon(scale=100)\n",
    "# randomized search vs gridsearch"
   ]
  },
  {
   "cell_type": "code",
   "execution_count": 56,
   "metadata": {},
   "outputs": [],
   "source": [
    "# for RandomizedSearchCV\n",
    "# for distribution, higher prob of selecting certain numbers\n",
    "from scipy.stats import expon as sp_expon\n",
    "from scipy.stats import randint as sp_randint"
   ]
  },
  {
   "cell_type": "code",
   "execution_count": 57,
   "metadata": {},
   "outputs": [
    {
     "ename": "SyntaxError",
     "evalue": "invalid syntax (<ipython-input-57-9b584faba2e8>, line 1)",
     "output_type": "error",
     "traceback": [
      "\u001b[1;36m  File \u001b[1;32m\"<ipython-input-57-9b584faba2e8>\"\u001b[1;36m, line \u001b[1;32m1\u001b[0m\n\u001b[1;33m    pca on svc; takes too long\u001b[0m\n\u001b[1;37m         ^\u001b[0m\n\u001b[1;31mSyntaxError\u001b[0m\u001b[1;31m:\u001b[0m invalid syntax\n"
     ]
    }
   ],
   "source": [
    "pca on svc; takes too long"
   ]
  },
  {
   "cell_type": "markdown",
   "metadata": {},
   "source": [
    "- plot decision function"
   ]
  },
  {
   "cell_type": "code",
   "execution_count": null,
   "metadata": {},
   "outputs": [],
   "source": [
    "param_svc = [10**i for i in range(-4,4)]\n",
    "\n",
    "svc = SVC(random_state=42)\n",
    "pca_svc = PCA()\n",
    "pipe_svc = Pipeline([('pca', pca),\n",
    "                     ('svc', svc)])"
   ]
  },
  {
   "cell_type": "code",
   "execution_count": null,
   "metadata": {},
   "outputs": [],
   "source": [
    "param_range = [10**i for i in range(-4,4)]\n",
    "\n",
    "param_grid = [{'svc__C': param_range,\n",
    "               'svc__kernel': ['linear']},\n",
    "             {'svc__C': param_range,\n",
    "             'svc__gamma': param_range,\n",
    "             'svc__kernel':['rbf']}]"
   ]
  },
  {
   "cell_type": "code",
   "execution_count": null,
   "metadata": {},
   "outputs": [],
   "source": [
    "gs_svc = GridSearchCV(estimator=pipe_svc,\n",
    "                     param_grid=param_grid,\n",
    "                     scoring='recall',\n",
    "                     cv=3,\n",
    "                     return_train_score=False)"
   ]
  },
  {
   "cell_type": "code",
   "execution_count": null,
   "metadata": {},
   "outputs": [],
   "source": [
    "gs_svc = gs_svc.fit(X1_train, y1_train['class'].ravel())"
   ]
  },
  {
   "cell_type": "code",
   "execution_count": null,
   "metadata": {},
   "outputs": [],
   "source": [
    "gs_svc.best_score_"
   ]
  },
  {
   "cell_type": "code",
   "execution_count": null,
   "metadata": {},
   "outputs": [],
   "source": [
    "gs_svc.best_params_"
   ]
  },
  {
   "cell_type": "code",
   "execution_count": null,
   "metadata": {},
   "outputs": [],
   "source": [
    "clf_svc = gs_svc.best_params_"
   ]
  },
  {
   "cell_type": "code",
   "execution_count": null,
   "metadata": {},
   "outputs": [],
   "source": [
    "clf_svc.fit(X1_train,y1_train['class'].ravel())"
   ]
  },
  {
   "cell_type": "code",
   "execution_count": null,
   "metadata": {},
   "outputs": [],
   "source": [
    "clf.score(X1_val, y1_val)"
   ]
  }
 ],
 "metadata": {
  "kernelspec": {
   "display_name": "Python 3",
   "language": "python",
   "name": "python3"
  },
  "language_info": {
   "codemirror_mode": {
    "name": "ipython",
    "version": 3
   },
   "file_extension": ".py",
   "mimetype": "text/x-python",
   "name": "python",
   "nbconvert_exporter": "python",
   "pygments_lexer": "ipython3",
   "version": "3.6.4"
  }
 },
 "nbformat": 4,
 "nbformat_minor": 2
}
