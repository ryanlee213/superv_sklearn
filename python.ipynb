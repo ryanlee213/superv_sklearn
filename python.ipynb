{
 "cells": [
  {
   "cell_type": "code",
   "execution_count": 2,
   "metadata": {},
   "outputs": [
    {
     "name": "stdout",
     "output_type": "stream",
     "text": [
      "3.5.5 |Anaconda, Inc.| (default, Apr  7 2018, 04:52:34) [MSC v.1900 64 bit (AMD64)]\n"
     ]
    }
   ],
   "source": [
    "import sys\n",
    "print(sys.version)"
   ]
  },
  {
   "cell_type": "code",
   "execution_count": null,
   "metadata": {},
   "outputs": [],
   "source": [
    "# def fib(num):\n",
    "#    a,b=1,0\n",
    "#    for i in range(0, num):\n",
    "#        yield \"{}: {}\".format(i+1, a)\n",
    "#        a,b = b, a+b\n",
    "\n",
    "# for item  in fib(10):\n",
    "#    print (item)"
   ]
  },
  {
   "cell_type": "code",
   "execution_count": null,
   "metadata": {},
   "outputs": [],
   "source": [
    "# def generate_square(nums):\n",
    "#    for i in nums:\n",
    "#        yield (i*i)\n",
    "\n",
    "# res= generate_square([1,2,3,4])\n",
    "\n",
    "# print (next(res))\n",
    "# print (next(res))\n",
    "# print (next(res))"
   ]
  },
  {
   "cell_type": "code",
   "execution_count": 2,
   "metadata": {},
   "outputs": [
    {
     "name": "stdout",
     "output_type": "stream",
     "text": [
      "1\n"
     ]
    }
   ],
   "source": [
    "def ways_climb(n):\n",
    "   if n==1:\n",
    "       return 1\n",
    "   elif n==2:\n",
    "       return 2\n",
    "   else: \n",
    "       return ways_climb(n-2)+ ways_climb(n-1)\n",
    "\n",
    "print(ways_climb(1))\n"
   ]
  },
  {
   "cell_type": "code",
   "execution_count": 3,
   "metadata": {},
   "outputs": [],
   "source": [
    "def ways_climb2(n, steps=[1,3,5]):\n",
    "    if n < 3:\n",
    "        return 1\n",
    "    elif n == 3:\n",
    "        return 2\n",
    "    elif n < 5:\n",
    "        return ways_climb2(n-1) + ways_climb2(n-3) \n",
    "    elif n == 5:\n",
    "        return 5\n",
    "    else:\n",
    "        return ways_climb2(n-1) + ways_climb2(n-3) + ways_climb2(n-5) "
   ]
  },
  {
   "cell_type": "code",
   "execution_count": 5,
   "metadata": {},
   "outputs": [
    {
     "data": {
      "text/plain": [
       "12"
      ]
     },
     "execution_count": 5,
     "metadata": {},
     "output_type": "execute_result"
    }
   ],
   "source": [
    "ways_climb2(7"
   ]
  },
  {
   "cell_type": "code",
   "execution_count": null,
   "metadata": {},
   "outputs": [],
   "source": [
    "1, 1, 1, 1, 1, 1\n",
    "1, 3, 1, 1\n",
    "1, 1, 3, 1\n",
    "1, 1, 1, 3\n",
    "3, 1, 1, 1\n",
    "1, 5\n",
    "5, 1\n",
    "3, 3, "
   ]
  }
 ],
 "metadata": {
  "kernelspec": {
   "display_name": "Python 3",
   "language": "python",
   "name": "python3"
  },
  "language_info": {
   "codemirror_mode": {
    "name": "ipython",
    "version": 3
   },
   "file_extension": ".py",
   "mimetype": "text/x-python",
   "name": "python",
   "nbconvert_exporter": "python",
   "pygments_lexer": "ipython3",
   "version": "3.5.5"
  }
 },
 "nbformat": 4,
 "nbformat_minor": 2
}
